{
 "cells": [
  {
   "cell_type": "markdown",
   "metadata": {
    "id": "a4SW1avnGGCv"
   },
   "source": [
    "# **Regression**\n",
    "\n",
    "**Regression** is a statistical method used in finance, investing, and other disciplines that attempts to determine the strength and character of the relationship between one dependent variable (usually denoted by Y) and a series of other variables (known as independent variables).\n",
    "\n",
    "**Correlation** is a statistical measure that expresses the extent to which two variables are linearly related (meaning they change together at a constant rate).\n",
    "\n",
    "***If there's no correlation there can't be any Regression then***"
   ]
  },
  {
   "cell_type": "markdown",
   "metadata": {
    "id": "bd99GCamF_BZ"
   },
   "source": [
    "# **Simple Linear Regression**\n",
    "\n",
    "Consider the model function\n",
    "\n",
    "***y = α + βx***\n",
    "or \n",
    "***y = mx +c***\n",
    "\n",
    "which describes a line with slope β and y-intercept α. In general such a relationship may not hold exactly for the largely unobserved population of values of the independent and dependent variables; we call the unobserved deviations from the above equation the errors.\n",
    "\n",
    "<img src=\"https://upload.wikimedia.org/wikipedia/commons/thumb/3/3a/Linear_regression.svg/1280px-Linear_regression.svg.png\">\n",
    "\n",
    "\n",
    "Here on obvoius fact, y is a dependent variable and x is an independant variable.\n",
    "\n"
   ]
  },
  {
   "cell_type": "markdown",
   "metadata": {
    "id": "KVS1y7vnmfRN"
   },
   "source": [
    "## **Residual**\n",
    "\n",
    "***residual = actualvalue - estimatedvalue***\n",
    "\n",
    "or\n",
    "\n",
    "***e = y - ŷ***\n",
    "\n",
    "Residual is the difference between actual value and estimated value.\n",
    "\n",
    "<img src = \"https://i.stack.imgur.com/wY8e5.png\">"
   ]
  },
  {
   "cell_type": "markdown",
   "metadata": {
    "id": "5vfa3RFlCnMa"
   },
   "source": [
    "### **Where is Linear Regression used?**\n",
    "\n",
    "\n",
    "*   Evaluating Trends and Sales Estimates\n",
    "*   Analyzing the Impact of Price Changes\n",
    "*   Assessment of risk in financial services and insurance domain\n",
    "\n",
    "\n"
   ]
  },
  {
   "cell_type": "markdown",
   "metadata": {
    "id": "wBiVX88QD6q4"
   },
   "source": [
    "## **Simple Linear Regression Algorithm**\n",
    "\n",
    "Mathematical Intuition\n",
    "\n",
    "<img src=\"data:image/png;base64,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\">\n",
    "\n"
   ]
  },
  {
   "cell_type": "markdown",
   "metadata": {
    "id": "SEgvS7aTD6i0"
   },
   "source": [
    "## **Getting Started with Linear Regression**"
   ]
  },
  {
   "cell_type": "code",
   "execution_count": 1,
   "metadata": {
    "id": "J_SgWUK6DBJC"
   },
   "outputs": [],
   "source": [
    "#importing libraries\n",
    "\n",
    "import numpy as np\n",
    "import pandas as pd\n",
    "import matplotlib.pyplot as plt\n",
    "from sklearn.linear_model import LinearRegression\n",
    "from sklearn.metrics import mean_squared_error\n",
    "import math"
   ]
  },
  {
   "cell_type": "markdown",
   "metadata": {
    "id": "yLyQEX_PxPCI"
   },
   "source": [
    "## **DataFraming**\n",
    "\n",
    "Read .csv data into a DataFrame"
   ]
  },
  {
   "cell_type": "code",
   "execution_count": 5,
   "metadata": {
    "colab": {
     "base_uri": "https://localhost:8080/",
     "height": 204
    },
    "id": "khIuVsjiHn_1",
    "outputId": "5b8063e8-4d1d-4817-dc63-9cc9d9b9c7d6"
   },
   "outputs": [
    {
     "data": {
      "text/html": [
       "<div>\n",
       "<style scoped>\n",
       "    .dataframe tbody tr th:only-of-type {\n",
       "        vertical-align: middle;\n",
       "    }\n",
       "\n",
       "    .dataframe tbody tr th {\n",
       "        vertical-align: top;\n",
       "    }\n",
       "\n",
       "    .dataframe thead th {\n",
       "        text-align: right;\n",
       "    }\n",
       "</style>\n",
       "<table border=\"1\" class=\"dataframe\">\n",
       "  <thead>\n",
       "    <tr style=\"text-align: right;\">\n",
       "      <th></th>\n",
       "      <th>Gender</th>\n",
       "      <th>Age Range</th>\n",
       "      <th>Head Size(cm^3)</th>\n",
       "      <th>Brain Weight(grams)</th>\n",
       "    </tr>\n",
       "  </thead>\n",
       "  <tbody>\n",
       "    <tr>\n",
       "      <th>0</th>\n",
       "      <td>1</td>\n",
       "      <td>1</td>\n",
       "      <td>4512</td>\n",
       "      <td>1530</td>\n",
       "    </tr>\n",
       "    <tr>\n",
       "      <th>1</th>\n",
       "      <td>1</td>\n",
       "      <td>1</td>\n",
       "      <td>3738</td>\n",
       "      <td>1297</td>\n",
       "    </tr>\n",
       "    <tr>\n",
       "      <th>2</th>\n",
       "      <td>1</td>\n",
       "      <td>1</td>\n",
       "      <td>4261</td>\n",
       "      <td>1335</td>\n",
       "    </tr>\n",
       "    <tr>\n",
       "      <th>3</th>\n",
       "      <td>1</td>\n",
       "      <td>1</td>\n",
       "      <td>3777</td>\n",
       "      <td>1282</td>\n",
       "    </tr>\n",
       "    <tr>\n",
       "      <th>4</th>\n",
       "      <td>1</td>\n",
       "      <td>1</td>\n",
       "      <td>4177</td>\n",
       "      <td>1590</td>\n",
       "    </tr>\n",
       "  </tbody>\n",
       "</table>\n",
       "</div>"
      ],
      "text/plain": [
       "   Gender  Age Range  Head Size(cm^3)  Brain Weight(grams)\n",
       "0       1          1             4512                 1530\n",
       "1       1          1             3738                 1297\n",
       "2       1          1             4261                 1335\n",
       "3       1          1             3777                 1282\n",
       "4       1          1             4177                 1590"
      ]
     },
     "execution_count": 5,
     "metadata": {},
     "output_type": "execute_result"
    }
   ],
   "source": [
    "dataset = pd.read_csv(\"headbrain.csv\")\n",
    "dataset.head()"
   ]
  },
  {
   "cell_type": "code",
   "execution_count": 10,
   "metadata": {
    "colab": {
     "base_uri": "https://localhost:8080/",
     "height": 425
    },
    "id": "pbciqhgcg2ss",
    "outputId": "3f4911d6-60a9-4039-eca5-4f80e1b7e282"
   },
   "outputs": [
    {
     "name": "stdout",
     "output_type": "stream",
     "text": [
      "0      4512\n",
      "1      3738\n",
      "2      4261\n",
      "3      3777\n",
      "4      4177\n",
      "       ... \n",
      "232    3214\n",
      "233    3394\n",
      "234    3233\n",
      "235    3352\n",
      "236    3391\n",
      "Name: Head Size(cm^3), Length: 237, dtype: int64\n",
      "0      1530\n",
      "1      1297\n",
      "2      1335\n",
      "3      1282\n",
      "4      1590\n",
      "       ... \n",
      "232    1110\n",
      "233    1215\n",
      "234    1104\n",
      "235    1170\n",
      "236    1120\n",
      "Name: Brain Weight(grams), Length: 237, dtype: int64\n"
     ]
    }
   ],
   "source": [
    "size = dataset['Head Size(cm^3)']\n",
    "weight = dataset['Brain Weight(grams)']\n",
    "\n",
    "print(size)\n",
    "print(weight)"
   ]
  },
  {
   "cell_type": "markdown",
   "metadata": {
    "id": "_2a09h1lh-av"
   },
   "source": [
    "## **Visualizing Dataset**"
   ]
  },
  {
   "cell_type": "code",
   "execution_count": 11,
   "metadata": {
    "colab": {
     "base_uri": "https://localhost:8080/",
     "height": 265
    },
    "id": "wswOA73Oh9wb",
    "outputId": "fb1a5c0f-bc54-4f7c-8556-e9926cd4d335"
   },
   "outputs": [
    {
     "data": {
      "image/png": "[encoded data removed]",
      "text/plain": [
       "<Figure size 640x480 with 1 Axes>"
      ]
     },
     "metadata": {},
     "output_type": "display_data"
    }
   ],
   "source": [
    "plt.scatter(size, weight)\n",
    "plt.show()"
   ]
  },
  {
   "cell_type": "markdown",
   "metadata": {
    "id": "EO7KCs9sxeSk"
   },
   "source": [
    "## **Converting dataframes into NumPy Arrays**\n",
    "Machine Learning handle arrays not dataframes (it's now neccessary but numpy arrays are better than in machine learning )"
   ]
  },
  {
   "cell_type": "code",
   "execution_count": 13,
   "metadata": {},
   "outputs": [
    {
     "data": {
      "text/plain": [
       "((237,), (237,))"
      ]
     },
     "execution_count": 13,
     "metadata": {},
     "output_type": "execute_result"
    }
   ],
   "source": [
    "size.shape, weight.shape"
   ]
  },
  {
   "cell_type": "code",
   "execution_count": 19,
   "metadata": {},
   "outputs": [
    {
     "data": {
      "text/plain": [
       "Index(['Gender', 'Age Range', 'Head Size(cm^3)', 'Brain Weight(grams)'], dtype='object')"
      ]
     },
     "execution_count": 19,
     "metadata": {},
     "output_type": "execute_result"
    }
   ],
   "source": [
    "dataset.columns"
   ]
  },
  {
   "cell_type": "code",
   "execution_count": 22,
   "metadata": {
    "id": "TTgyT-jrHsRR"
   },
   "outputs": [],
   "source": [
    "X = np.array(size).reshape(-1,1)\n",
    "y = np.array(weight).reshape(-1,1)"
   ]
  },
  {
   "cell_type": "code",
   "execution_count": 23,
   "metadata": {},
   "outputs": [
    {
     "data": {
      "text/plain": [
       "((237, 1), (237, 1))"
      ]
     },
     "execution_count": 23,
     "metadata": {},
     "output_type": "execute_result"
    }
   ],
   "source": [
    "X.shape, y.shape"
   ]
  },
  {
   "cell_type": "markdown",
   "metadata": {
    "id": "c-QrCzDLxjNq"
   },
   "source": [
    "## **Training the Model**\n",
    "We are using Linear regression model as imported from sklearn library and then it's being trained on x and y (any 2 major axis of datasets)"
   ]
  },
  {
   "cell_type": "code",
   "execution_count": 24,
   "metadata": {
    "colab": {
     "base_uri": "https://localhost:8080/",
     "height": 34
    },
    "id": "t-XSS-hbHsTt",
    "outputId": "14194efe-9a43-4988-8e3d-22b23163155c"
   },
   "outputs": [
    {
     "data": {
      "text/html": [
       "<style>#sk-container-id-1 {\n",
       "  /* Definition of color scheme common for light and dark mode */\n",
       "  --sklearn-color-text: #000;\n",
       "  --sklearn-color-text-muted: #666;\n",
       "  --sklearn-color-line: gray;\n",
       "  /* Definition of color scheme for unfitted estimators */\n",
       "  --sklearn-color-unfitted-level-0: #fff5e6;\n",
       "  --sklearn-color-unfitted-level-1: #f6e4d2;\n",
       "  --sklearn-color-unfitted-level-2: #ffe0b3;\n",
       "  --sklearn-color-unfitted-level-3: chocolate;\n",
       "  /* Definition of color scheme for fitted estimators */\n",
       "  --sklearn-color-fitted-level-0: #f0f8ff;\n",
       "  --sklearn-color-fitted-level-1: #d4ebff;\n",
       "  --sklearn-color-fitted-level-2: #b3dbfd;\n",
       "  --sklearn-color-fitted-level-3: cornflowerblue;\n",
       "\n",
       "  /* Specific color for light theme */\n",
       "  --sklearn-color-text-on-default-background: var(--sg-text-color, var(--theme-code-foreground, var(--jp-content-font-color1, black)));\n",
       "  --sklearn-color-background: var(--sg-background-color, var(--theme-background, var(--jp-layout-color0, white)));\n",
       "  --sklearn-color-border-box: var(--sg-text-color, var(--theme-code-foreground, var(--jp-content-font-color1, black)));\n",
       "  --sklearn-color-icon: #696969;\n",
       "\n",
       "  @media (prefers-color-scheme: dark) {\n",
       "    /* Redefinition of color scheme for dark theme */\n",
       "    --sklearn-color-text-on-default-background: var(--sg-text-color, var(--theme-code-foreground, var(--jp-content-font-color1, white)));\n",
       "    --sklearn-color-background: var(--sg-background-color, var(--theme-background, var(--jp-layout-color0, #111)));\n",
       "    --sklearn-color-border-box: var(--sg-text-color, var(--theme-code-foreground, var(--jp-content-font-color1, white)));\n",
       "    --sklearn-color-icon: #878787;\n",
       "  }\n",
       "}\n",
       "\n",
       "#sk-container-id-1 {\n",
       "  color: var(--sklearn-color-text);\n",
       "}\n",
       "\n",
       "#sk-container-id-1 pre {\n",
       "  padding: 0;\n",
       "}\n",
       "\n",
       "#sk-container-id-1 input.sk-hidden--visually {\n",
       "  border: 0;\n",
       "  clip: rect(1px 1px 1px 1px);\n",
       "  clip: rect(1px, 1px, 1px, 1px);\n",
       "  height: 1px;\n",
       "  margin: -1px;\n",
       "  overflow: hidden;\n",
       "  padding: 0;\n",
       "  position: absolute;\n",
       "  width: 1px;\n",
       "}\n",
       "\n",
       "#sk-container-id-1 div.sk-dashed-wrapped {\n",
       "  border: 1px dashed var(--sklearn-color-line);\n",
       "  margin: 0 0.4em 0.5em 0.4em;\n",
       "  box-sizing: border-box;\n",
       "  padding-bottom: 0.4em;\n",
       "  background-color: var(--sklearn-color-background);\n",
       "}\n",
       "\n",
       "#sk-container-id-1 div.sk-container {\n",
       "  /* jupyter's `normalize.less` sets `[hidden] { display: none; }`\n",
       "     but bootstrap.min.css set `[hidden] { display: none !important; }`\n",
       "     so we also need the `!important` here to be able to override the\n",
       "     default hidden behavior on the sphinx rendered scikit-learn.org.\n",
       "     See: https://github.com/scikit-learn/scikit-learn/issues/21755 */\n",
       "  display: inline-block !important;\n",
       "  position: relative;\n",
       "}\n",
       "\n",
       "#sk-container-id-1 div.sk-text-repr-fallback {\n",
       "  display: none;\n",
       "}\n",
       "\n",
       "div.sk-parallel-item,\n",
       "div.sk-serial,\n",
       "div.sk-item {\n",
       "  /* draw centered vertical line to link estimators */\n",
       "  background-image: linear-gradient(var(--sklearn-color-text-on-default-background), var(--sklearn-color-text-on-default-background));\n",
       "  background-size: 2px 100%;\n",
       "  background-repeat: no-repeat;\n",
       "  background-position: center center;\n",
       "}\n",
       "\n",
       "/* Parallel-specific style estimator block */\n",
       "\n",
       "#sk-container-id-1 div.sk-parallel-item::after {\n",
       "  content: \"\";\n",
       "  width: 100%;\n",
       "  border-bottom: 2px solid var(--sklearn-color-text-on-default-background);\n",
       "  flex-grow: 1;\n",
       "}\n",
       "\n",
       "#sk-container-id-1 div.sk-parallel {\n",
       "  display: flex;\n",
       "  align-items: stretch;\n",
       "  justify-content: center;\n",
       "  background-color: var(--sklearn-color-background);\n",
       "  position: relative;\n",
       "}\n",
       "\n",
       "#sk-container-id-1 div.sk-parallel-item {\n",
       "  display: flex;\n",
       "  flex-direction: column;\n",
       "}\n",
       "\n",
       "#sk-container-id-1 div.sk-parallel-item:first-child::after {\n",
       "  align-self: flex-end;\n",
       "  width: 50%;\n",
       "}\n",
       "\n",
       "#sk-container-id-1 div.sk-parallel-item:last-child::after {\n",
       "  align-self: flex-start;\n",
       "  width: 50%;\n",
       "}\n",
       "\n",
       "#sk-container-id-1 div.sk-parallel-item:only-child::after {\n",
       "  width: 0;\n",
       "}\n",
       "\n",
       "/* Serial-specific style estimator block */\n",
       "\n",
       "#sk-container-id-1 div.sk-serial {\n",
       "  display: flex;\n",
       "  flex-direction: column;\n",
       "  align-items: center;\n",
       "  background-color: var(--sklearn-color-background);\n",
       "  padding-right: 1em;\n",
       "  padding-left: 1em;\n",
       "}\n",
       "\n",
       "\n",
       "/* Toggleable style: style used for estimator/Pipeline/ColumnTransformer box that is\n",
       "clickable and can be expanded/collapsed.\n",
       "- Pipeline and ColumnTransformer use this feature and define the default style\n",
       "- Estimators will overwrite some part of the style using the `sk-estimator` class\n",
       "*/\n",
       "\n",
       "/* Pipeline and ColumnTransformer style (default) */\n",
       "\n",
       "#sk-container-id-1 div.sk-toggleable {\n",
       "  /* Default theme specific background. It is overwritten whether we have a\n",
       "  specific estimator or a Pipeline/ColumnTransformer */\n",
       "  background-color: var(--sklearn-color-background);\n",
       "}\n",
       "\n",
       "/* Toggleable label */\n",
       "#sk-container-id-1 label.sk-toggleable__label {\n",
       "  cursor: pointer;\n",
       "  display: flex;\n",
       "  width: 100%;\n",
       "  margin-bottom: 0;\n",
       "  padding: 0.5em;\n",
       "  box-sizing: border-box;\n",
       "  text-align: center;\n",
       "  align-items: start;\n",
       "  justify-content: space-between;\n",
       "  gap: 0.5em;\n",
       "}\n",
       "\n",
       "#sk-container-id-1 label.sk-toggleable__label .caption {\n",
       "  font-size: 0.6rem;\n",
       "  font-weight: lighter;\n",
       "  color: var(--sklearn-color-text-muted);\n",
       "}\n",
       "\n",
       "#sk-container-id-1 label.sk-toggleable__label-arrow:before {\n",
       "  /* Arrow on the left of the label */\n",
       "  content: \"▸\";\n",
       "  float: left;\n",
       "  margin-right: 0.25em;\n",
       "  color: var(--sklearn-color-icon);\n",
       "}\n",
       "\n",
       "#sk-container-id-1 label.sk-toggleable__label-arrow:hover:before {\n",
       "  color: var(--sklearn-color-text);\n",
       "}\n",
       "\n",
       "/* Toggleable content - dropdown */\n",
       "\n",
       "#sk-container-id-1 div.sk-toggleable__content {\n",
       "  max-height: 0;\n",
       "  max-width: 0;\n",
       "  overflow: hidden;\n",
       "  text-align: left;\n",
       "  /* unfitted */\n",
       "  background-color: var(--sklearn-color-unfitted-level-0);\n",
       "}\n",
       "\n",
       "#sk-container-id-1 div.sk-toggleable__content.fitted {\n",
       "  /* fitted */\n",
       "  background-color: var(--sklearn-color-fitted-level-0);\n",
       "}\n",
       "\n",
       "#sk-container-id-1 div.sk-toggleable__content pre {\n",
       "  margin: 0.2em;\n",
       "  border-radius: 0.25em;\n",
       "  color: var(--sklearn-color-text);\n",
       "  /* unfitted */\n",
       "  background-color: var(--sklearn-color-unfitted-level-0);\n",
       "}\n",
       "\n",
       "#sk-container-id-1 div.sk-toggleable__content.fitted pre {\n",
       "  /* unfitted */\n",
       "  background-color: var(--sklearn-color-fitted-level-0);\n",
       "}\n",
       "\n",
       "#sk-container-id-1 input.sk-toggleable__control:checked~div.sk-toggleable__content {\n",
       "  /* Expand drop-down */\n",
       "  max-height: 200px;\n",
       "  max-width: 100%;\n",
       "  overflow: auto;\n",
       "}\n",
       "\n",
       "#sk-container-id-1 input.sk-toggleable__control:checked~label.sk-toggleable__label-arrow:before {\n",
       "  content: \"▾\";\n",
       "}\n",
       "\n",
       "/* Pipeline/ColumnTransformer-specific style */\n",
       "\n",
       "#sk-container-id-1 div.sk-label input.sk-toggleable__control:checked~label.sk-toggleable__label {\n",
       "  color: var(--sklearn-color-text);\n",
       "  background-color: var(--sklearn-color-unfitted-level-2);\n",
       "}\n",
       "\n",
       "#sk-container-id-1 div.sk-label.fitted input.sk-toggleable__control:checked~label.sk-toggleable__label {\n",
       "  background-color: var(--sklearn-color-fitted-level-2);\n",
       "}\n",
       "\n",
       "/* Estimator-specific style */\n",
       "\n",
       "/* Colorize estimator box */\n",
       "#sk-container-id-1 div.sk-estimator input.sk-toggleable__control:checked~label.sk-toggleable__label {\n",
       "  /* unfitted */\n",
       "  background-color: var(--sklearn-color-unfitted-level-2);\n",
       "}\n",
       "\n",
       "#sk-container-id-1 div.sk-estimator.fitted input.sk-toggleable__control:checked~label.sk-toggleable__label {\n",
       "  /* fitted */\n",
       "  background-color: var(--sklearn-color-fitted-level-2);\n",
       "}\n",
       "\n",
       "#sk-container-id-1 div.sk-label label.sk-toggleable__label,\n",
       "#sk-container-id-1 div.sk-label label {\n",
       "  /* The background is the default theme color */\n",
       "  color: var(--sklearn-color-text-on-default-background);\n",
       "}\n",
       "\n",
       "/* On hover, darken the color of the background */\n",
       "#sk-container-id-1 div.sk-label:hover label.sk-toggleable__label {\n",
       "  color: var(--sklearn-color-text);\n",
       "  background-color: var(--sklearn-color-unfitted-level-2);\n",
       "}\n",
       "\n",
       "/* Label box, darken color on hover, fitted */\n",
       "#sk-container-id-1 div.sk-label.fitted:hover label.sk-toggleable__label.fitted {\n",
       "  color: var(--sklearn-color-text);\n",
       "  background-color: var(--sklearn-color-fitted-level-2);\n",
       "}\n",
       "\n",
       "/* Estimator label */\n",
       "\n",
       "#sk-container-id-1 div.sk-label label {\n",
       "  font-family: monospace;\n",
       "  font-weight: bold;\n",
       "  display: inline-block;\n",
       "  line-height: 1.2em;\n",
       "}\n",
       "\n",
       "#sk-container-id-1 div.sk-label-container {\n",
       "  text-align: center;\n",
       "}\n",
       "\n",
       "/* Estimator-specific */\n",
       "#sk-container-id-1 div.sk-estimator {\n",
       "  font-family: monospace;\n",
       "  border: 1px dotted var(--sklearn-color-border-box);\n",
       "  border-radius: 0.25em;\n",
       "  box-sizing: border-box;\n",
       "  margin-bottom: 0.5em;\n",
       "  /* unfitted */\n",
       "  background-color: var(--sklearn-color-unfitted-level-0);\n",
       "}\n",
       "\n",
       "#sk-container-id-1 div.sk-estimator.fitted {\n",
       "  /* fitted */\n",
       "  background-color: var(--sklearn-color-fitted-level-0);\n",
       "}\n",
       "\n",
       "/* on hover */\n",
       "#sk-container-id-1 div.sk-estimator:hover {\n",
       "  /* unfitted */\n",
       "  background-color: var(--sklearn-color-unfitted-level-2);\n",
       "}\n",
       "\n",
       "#sk-container-id-1 div.sk-estimator.fitted:hover {\n",
       "  /* fitted */\n",
       "  background-color: var(--sklearn-color-fitted-level-2);\n",
       "}\n",
       "\n",
       "/* Specification for estimator info (e.g. \"i\" and \"?\") */\n",
       "\n",
       "/* Common style for \"i\" and \"?\" */\n",
       "\n",
       ".sk-estimator-doc-link,\n",
       "a:link.sk-estimator-doc-link,\n",
       "a:visited.sk-estimator-doc-link {\n",
       "  float: right;\n",
       "  font-size: smaller;\n",
       "  line-height: 1em;\n",
       "  font-family: monospace;\n",
       "  background-color: var(--sklearn-color-background);\n",
       "  border-radius: 1em;\n",
       "  height: 1em;\n",
       "  width: 1em;\n",
       "  text-decoration: none !important;\n",
       "  margin-left: 0.5em;\n",
       "  text-align: center;\n",
       "  /* unfitted */\n",
       "  border: var(--sklearn-color-unfitted-level-1) 1pt solid;\n",
       "  color: var(--sklearn-color-unfitted-level-1);\n",
       "}\n",
       "\n",
       ".sk-estimator-doc-link.fitted,\n",
       "a:link.sk-estimator-doc-link.fitted,\n",
       "a:visited.sk-estimator-doc-link.fitted {\n",
       "  /* fitted */\n",
       "  border: var(--sklearn-color-fitted-level-1) 1pt solid;\n",
       "  color: var(--sklearn-color-fitted-level-1);\n",
       "}\n",
       "\n",
       "/* On hover */\n",
       "div.sk-estimator:hover .sk-estimator-doc-link:hover,\n",
       ".sk-estimator-doc-link:hover,\n",
       "div.sk-label-container:hover .sk-estimator-doc-link:hover,\n",
       ".sk-estimator-doc-link:hover {\n",
       "  /* unfitted */\n",
       "  background-color: var(--sklearn-color-unfitted-level-3);\n",
       "  color: var(--sklearn-color-background);\n",
       "  text-decoration: none;\n",
       "}\n",
       "\n",
       "div.sk-estimator.fitted:hover .sk-estimator-doc-link.fitted:hover,\n",
       ".sk-estimator-doc-link.fitted:hover,\n",
       "div.sk-label-container:hover .sk-estimator-doc-link.fitted:hover,\n",
       ".sk-estimator-doc-link.fitted:hover {\n",
       "  /* fitted */\n",
       "  background-color: var(--sklearn-color-fitted-level-3);\n",
       "  color: var(--sklearn-color-background);\n",
       "  text-decoration: none;\n",
       "}\n",
       "\n",
       "/* Span, style for the box shown on hovering the info icon */\n",
       ".sk-estimator-doc-link span {\n",
       "  display: none;\n",
       "  z-index: 9999;\n",
       "  position: relative;\n",
       "  font-weight: normal;\n",
       "  right: .2ex;\n",
       "  padding: .5ex;\n",
       "  margin: .5ex;\n",
       "  width: min-content;\n",
       "  min-width: 20ex;\n",
       "  max-width: 50ex;\n",
       "  color: var(--sklearn-color-text);\n",
       "  box-shadow: 2pt 2pt 4pt #999;\n",
       "  /* unfitted */\n",
       "  background: var(--sklearn-color-unfitted-level-0);\n",
       "  border: .5pt solid var(--sklearn-color-unfitted-level-3);\n",
       "}\n",
       "\n",
       ".sk-estimator-doc-link.fitted span {\n",
       "  /* fitted */\n",
       "  background: var(--sklearn-color-fitted-level-0);\n",
       "  border: var(--sklearn-color-fitted-level-3);\n",
       "}\n",
       "\n",
       ".sk-estimator-doc-link:hover span {\n",
       "  display: block;\n",
       "}\n",
       "\n",
       "/* \"?\"-specific style due to the `<a>` HTML tag */\n",
       "\n",
       "#sk-container-id-1 a.estimator_doc_link {\n",
       "  float: right;\n",
       "  font-size: 1rem;\n",
       "  line-height: 1em;\n",
       "  font-family: monospace;\n",
       "  background-color: var(--sklearn-color-background);\n",
       "  border-radius: 1rem;\n",
       "  height: 1rem;\n",
       "  width: 1rem;\n",
       "  text-decoration: none;\n",
       "  /* unfitted */\n",
       "  color: var(--sklearn-color-unfitted-level-1);\n",
       "  border: var(--sklearn-color-unfitted-level-1) 1pt solid;\n",
       "}\n",
       "\n",
       "#sk-container-id-1 a.estimator_doc_link.fitted {\n",
       "  /* fitted */\n",
       "  border: var(--sklearn-color-fitted-level-1) 1pt solid;\n",
       "  color: var(--sklearn-color-fitted-level-1);\n",
       "}\n",
       "\n",
       "/* On hover */\n",
       "#sk-container-id-1 a.estimator_doc_link:hover {\n",
       "  /* unfitted */\n",
       "  background-color: var(--sklearn-color-unfitted-level-3);\n",
       "  color: var(--sklearn-color-background);\n",
       "  text-decoration: none;\n",
       "}\n",
       "\n",
       "#sk-container-id-1 a.estimator_doc_link.fitted:hover {\n",
       "  /* fitted */\n",
       "  background-color: var(--sklearn-color-fitted-level-3);\n",
       "}\n",
       "</style><div id=\"sk-container-id-1\" class=\"sk-top-container\"><div class=\"sk-text-repr-fallback\"><pre>LinearRegression()</pre><b>In a Jupyter environment, please rerun this cell to show the HTML representation or trust the notebook. <br />On GitHub, the HTML representation is unable to render, please try loading this page with nbviewer.org.</b></div><div class=\"sk-container\" hidden><div class=\"sk-item\"><div class=\"sk-estimator fitted sk-toggleable\"><input class=\"sk-toggleable__control sk-hidden--visually\" id=\"sk-estimator-id-1\" type=\"checkbox\" checked><label for=\"sk-estimator-id-1\" class=\"sk-toggleable__label fitted sk-toggleable__label-arrow\"><div><div>LinearRegression</div></div><div><a class=\"sk-estimator-doc-link fitted\" rel=\"noreferrer\" target=\"_blank\" href=\"https://scikit-learn.org/1.6/modules/generated/sklearn.linear_model.LinearRegression.html\">?<span>Documentation for LinearRegression</span></a><span class=\"sk-estimator-doc-link fitted\">i<span>Fitted</span></span></div></label><div class=\"sk-toggleable__content fitted\"><pre>LinearRegression()</pre></div> </div></div></div></div>"
      ],
      "text/plain": [
       "LinearRegression()"
      ]
     },
     "execution_count": 24,
     "metadata": {},
     "output_type": "execute_result"
    }
   ],
   "source": [
    "model = LinearRegression()\n",
    "model.fit(X,y)"
   ]
  },
  {
   "cell_type": "markdown",
   "metadata": {
    "id": "oz_x3KgLyCl-"
   },
   "source": [
    "## **Mean Sqaured Error & R - Squared Value**\n",
    "\n",
    "The **mean squared error** or mean squared deviation of an estimator measures the average of the squares of the errors—that is, the average squared difference between the estimated values and the actual value. MSE is a risk function, corresponding to the expected value of the squared error loss.\n",
    "\n",
    "The **coefficient of determination**, denoted R² or r² and pronounced \"R squared\", is the proportion of the variance in the dependent variable that is predictable from the independent variable.\n",
    "\n",
    "<img src=\"https://miro.medium.com/max/1432/1*w3MdmyJ2bgnezao1liJcDA.png\">"
   ]
  },
  {
   "cell_type": "code",
   "execution_count": null,
   "metadata": {
    "colab": {
     "base_uri": "https://localhost:8080/",
     "height": 51
    },
    "id": "pBfgljcuHsWV",
    "outputId": "38269e21-5832-4dd9-ad03-6381517bd7ea"
   },
   "outputs": [
    {
     "name": "stdout",
     "output_type": "stream",
     "text": [
      "Mean Squared Error:\t 2367.495611943946\n",
      "R squared value\t\t 0.639311719957\n"
     ]
    }
   ],
   "source": [
    "regression_model_mse = mean_squared_error(X,y)\n",
    "print('Mean Squared Error:\\t',math.sqrt(regression_model_mse))\n",
    "print(\"R squared value\\t\\t\",model.score(X,y))"
   ]
  },
  {
   "cell_type": "code",
   "execution_count": null,
   "metadata": {
    "colab": {
     "base_uri": "https://localhost:8080/",
     "height": 51
    },
    "id": "QF2EvRayHsY1",
    "outputId": "e7060ee5-d885-44b6-f2a9-4af657d5357e"
   },
   "outputs": [
    {
     "name": "stdout",
     "output_type": "stream",
     "text": [
      "[0.26342934]\n",
      "325.5734210494426\n"
     ]
    }
   ],
   "source": [
    "print(model.coef_[0])\n",
    "print(model.intercept_[0])"
   ]
  },
  {
   "cell_type": "markdown",
   "metadata": {
    "id": "vtOVG5e0z6yJ"
   },
   "source": [
    "## **Visualization**\n",
    "\n",
    "Visualize the dataset with the fit model using matplotlib."
   ]
  },
  {
   "cell_type": "code",
   "execution_count": null,
   "metadata": {
    "colab": {
     "base_uri": "https://localhost:8080/",
     "height": 312
    },
    "id": "QPF_5hXJHsb9",
    "outputId": "cfdc3064-60ad-4e65-e93d-cf5e92e46465"
   },
   "outputs": [
    {
     "data": {
      "text/plain": [
       "Text(0, 0.5, 'Brain Weight')"
      ]
     },
     "execution_count": 16,
     "metadata": {
      "tags": []
     },
     "output_type": "execute_result"
    },
    {
     "data": {
      "image/png": "[encoded data removed]",
      "text/plain": [
       "<Figure size 432x288 with 1 Axes>"
      ]
     },
     "metadata": {
      "needs_background": "light",
      "tags": []
     },
     "output_type": "display_data"
    }
   ],
   "source": [
    "plt.scatter(X,y, color = 'orange')\n",
    "plt.plot(X,model.predict(X), color = 'black')\n",
    "plt.title('Linear Regression')\n",
    "plt.xlabel('Head Size')\n",
    "plt.ylabel('Brain Weight')"
   ]
  },
  {
   "cell_type": "markdown",
   "metadata": {
    "id": "pEUC4ruW0Ket"
   },
   "source": [
    "## **Prediction**\n",
    "We will predict the Brain weight by giving an input of Brain Size"
   ]
  },
  {
   "cell_type": "code",
   "execution_count": null,
   "metadata": {
    "colab": {
     "base_uri": "https://localhost:8080/",
     "height": 34
    },
    "id": "DUr0fLtVIDfE",
    "outputId": "600fcac0-55f0-4cd6-a7f4-b156454ccd3e"
   },
   "outputs": [
    {
     "name": "stdout",
     "output_type": "stream",
     "text": [
      "Prediction by the model:\t [[852.43210003]]\n"
     ]
    }
   ],
   "source": [
    "print('Prediction by the model:\\t', model.predict([[2000]]))"
   ]
  }
 ],
 "metadata": {
  "colab": {
   "name": "04_SimpleLinearRegression.ipynb",
   "provenance": [],
   "toc_visible": true
  },
  "kernelspec": {
   "display_name": "myenv",
   "language": "python",
   "name": "python3"
  },
  "language_info": {
   "codemirror_mode": {
    "name": "ipython",
    "version": 3
   },
   "file_extension": ".py",
   "mimetype": "text/x-python",
   "name": "python",
   "nbconvert_exporter": "python",
   "pygments_lexer": "ipython3",
   "version": "3.10.13"
  }
 },
 "nbformat": 4,
 "nbformat_minor": 0
}
